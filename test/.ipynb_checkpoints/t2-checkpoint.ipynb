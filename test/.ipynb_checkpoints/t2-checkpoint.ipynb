{
 "cells": [
  {
   "cell_type": "code",
   "execution_count": 0,
   "metadata": {
    "pycharm": {
     "name": "#%%\n"
    }
   },
   "outputs": [],
   "source": []
  },
  {
   "cell_type": "code",
   "execution_count": 1,
   "metadata": {
    "pycharm": {
     "name": "#%%\n"
    }
   },
   "outputs": [
    {
     "name": "stdout",
     "output_type": "stream",
     "text": [
      "['E:\\\\P-GPS Project\\\\PGLP-master\\\\test', 'E:\\\\P-GPS Project\\\\PGLP-master', 'D:\\\\Users\\\\jiyua\\\\anaconda3\\\\python37.zip', 'D:\\\\Users\\\\jiyua\\\\anaconda3\\\\DLLs', 'D:\\\\Users\\\\jiyua\\\\anaconda3\\\\lib', 'D:\\\\Users\\\\jiyua\\\\anaconda3', '', 'D:\\\\Users\\\\jiyua\\\\anaconda3\\\\lib\\\\site-packages', 'D:\\\\Users\\\\jiyua\\\\anaconda3\\\\lib\\\\site-packages\\\\win32', 'D:\\\\Users\\\\jiyua\\\\anaconda3\\\\lib\\\\site-packages\\\\win32\\\\lib', 'D:\\\\Users\\\\jiyua\\\\anaconda3\\\\lib\\\\site-packages\\\\Pythonwin', 'D:\\\\Users\\\\jiyua\\\\anaconda3\\\\lib\\\\site-packages\\\\IPython\\\\extensions', 'C:\\\\Users\\\\jiyua\\\\.ipython', 'D:\\\\Program Files\\\\JetBrains\\\\PyCharm Professional Edition with Anaconda plugin 2020.1.3\\\\plugins\\\\python\\\\helpers\\\\pydev', 'D:\\\\Program Files\\\\JetBrains\\\\PyCharm Professional Edition with Anaconda plugin 2020.1.3\\\\plugins\\\\python\\\\helpers-pro\\\\jupyter_debug', 'E:\\\\P-GPS Project']\n"
     ]
    }
   ],
   "source": [
    "import sys\n",
    "import os.path\n",
    "BASE_DIR = os.path.dirname(os.path.dirname(os.path.abspath(\"E://P-GPS Project/PGLP-master/test\")))\n",
    "sys.path.append(BASE_DIR)\n",
    "print(sys.path)\n",
    "import os\n",
    "import joblib\n",
    "import numpy as np\n",
    "import matplotlib.pyplot as plt\n",
    "import math\n",
    "imgdir = \"E://P-GPS Project/PGLP-master/img\""
   ]
  },
  {
   "cell_type": "code",
   "execution_count": 2,
   "metadata": {
    "pycharm": {
     "name": "#%%\n"
    }
   },
   "outputs": [],
   "source": [
    "n_x_lattice = 50\n",
    "sample_num = 2000\n",
    "\n",
    "placeID = 3\n",
    "#指定数据集选取的经纬度范围\n",
    "min_lon, max_lon, min_lat, max_lat = 139.6, 139.75, 35.679, 35.8\n",
    "#给定不同隐私预算\n",
    "epsilons = [0.3, 0.5, 0.7, 1]\n",
    "\n",
    "list_n_subgraph_x_nodes = [3,4,5]#对应k9是3*3，k16是4*4，k25是5*5\n",
    "cat_n_subgraph_x_nodes = 6\n",
    "graph_names = [f\"G_k{num ** 2}\" for num in list_n_subgraph_x_nodes]\n",
    "graph_names.append(f\"G_poi_k{cat_n_subgraph_x_nodes ** 2}\")"
   ]
  },
  {
   "cell_type": "code",
   "execution_count": null,
   "metadata": {},
   "outputs": [],
   "source": [
    "#定制隐私策略\n",
    "map_processors = []\n",
    "for n_"
   ]
  },
  {
   "cell_type": "markdown",
   "metadata": {},
   "source": [
    "【start】\n",
    "# Trace data"
   ]
  },
  {
   "cell_type": "code",
   "execution_count": null,
   "metadata": {
    "pycharm": {
     "name": "#%%\n"
    }
   },
   "outputs": [],
   "source": [
    "import sys\n",
    "sys.path.append(\"../src\")\n",
    "import trajectory_processor\n",
    "import map_processor\n",
    "import mechanism_with_policy_graph\n",
    "import os\n",
    "import numpy as np\n",
    "import math\n",
    "import time\n",
    "\n",
    "#单个轨迹的扰动算法\n",
    "def perturb_trajectory(traj, traj_processor, epsilon, mec, iter_num=1, initial_constraint_domain_tp=None):\n",
    "    reports = {\"true_trajectory\": traj[:150], \"perturbed_trajectories\": []}\n",
    "    mec.policy_mat = traj_processor.graph_mat\n",
    "    for f in range(iter_num):\n",
    "        #print(\"-\"*25+\"第\"+str(f+1)+\"次\"+\"-\"*25)\n",
    "\n",
    "        if initial_constraint_domain_tp:\n",
    "            #初始约束域\n",
    "            initial_constraint_domain = initial_constraint_domain_tp.areas[initial_constraint_domain_tp.state_to_area_state(traj[0])]\n",
    "            prob = 1/len(initial_constraint_domain)\n",
    "            #先验概率分布\n",
    "            prior_distribution = np.zeros(len(traj_processor.transition_mat[0]))\n",
    "            prior_distribution[np.array(initial_constraint_domain)] = prob\n",
    "        else:\n",
    "            prior_distribution = np.zeros(len(traj_processor.transition_mat[0]))\n",
    "            prior_distribution[traj[0]] = 1\n",
    "\n",
    "        perturbed_trajectory = np.zeros(len(traj[:150]))\n",
    "        for i, true_state in enumerate(traj[:150]):#enumerate()函数用于将一个可遍历的数据对象(如列表、元组或字符串)组合为一个索引序列，同时列出数据和数据下标\n",
    "            #print(i, end=\"\\r\")#滚动输出\n",
    "            #后验概率分布\n",
    "            pos_dist = traj_processor.compute_posterior_distribution(prior_distribution)\n",
    "            #计算用户可能的位置集合\n",
    "            state_nos = traj_processor.compute_possible_set(pos_dist, delta=0)\n",
    "\n",
    "            set_of_connected_states = traj_processor.make_set_of_connected_states(state_nos, traj_processor.graph_mat)\n",
    "\n",
    "            connected_states_of_true_state = traj_processor.connected_states(true_state, set_of_connected_states)\n",
    "            if connected_states_of_true_state == None:\n",
    "                connected_states_of_true_state = traj_processor.areas[traj_processor.state_to_area_state(true_state)]\n",
    "\n",
    "            connected_coords_of_true_state = traj_processor.states_to_coords(connected_states_of_true_state)\n",
    "\n",
    "            true_coord = traj_processor.state_to_coord(true_state)\n",
    "            #调用扰动算法\n",
    "            mec.load(connected_coords_of_true_state, connected_states_of_true_state)\n",
    "            #根据隐私预算建立扰动分布\n",
    "            mec.build_distribution(epsilon)\n",
    "\n",
    "            perturbed_coord = mec.perturb(true_coord)\n",
    "            perturbed_state = traj_processor.find_nearest_state(perturbed_coord)\n",
    "            perturbed_trajectory[i] = perturbed_state\n",
    "            #先验概率分布\n",
    "            prior_distribution = mec.inference(pos_dist, perturbed_coord)\n",
    "\n",
    "        reports[\"perturbed_trajectories\"].append(perturbed_trajectory)\n",
    "\n",
    "    return reports\n",
    "\n",
    "#轨迹集的扰动\n",
    "def perturb_trajectories(trajs, traj_processor, epsilon, mec, iter_num=1, initial_constraint_domain=None):\n",
    "    reports = []\n",
    "    num = 0\n",
    "    for traj in trajs:#遍历每个用户的轨迹\n",
    "        num+=1\n",
    "        print(\"+\"*35+\"第\"+str(num)+\"个用户\"+\"+\"*35)\n",
    "        reports.append(perturb_trajectory(traj, traj_processor, epsilon, mec, iter_num=iter_num,\n",
    "                                        initial_constraint_domain_tp=initial_constraint_domain))\n",
    "\n",
    "    return reports"
   ]
  },
  {
   "cell_type": "code",
   "execution_count": null,
   "metadata": {
    "pycharm": {
     "name": "#%%\n"
    }
   },
   "outputs": [],
   "source": [
    "#基于策略图的平面各向性扰动机制\n",
    "pim_with_pg = mechanism_with_policy_graph.PlanarIsotropicMechanismWithPolicyGraph()\n",
    "#基于策略图的拉普拉斯扰动机制\n",
    "lm_with_pg = mechanism_with_policy_graph.LaplaceMechanismWithPolicyGraph()"
   ]
  },
  {
   "cell_type": "markdown",
   "metadata": {},
   "source": [
    "## Geolife"
   ]
  },
  {
   "cell_type": "code",
   "execution_count": null,
   "metadata": {
    "pycharm": {
     "name": "#%%\n"
    }
   },
   "outputs": [],
   "source": [
    "geolife_datadir = \"E:\\P-GPS Project\\PGLP-master\\Geolife Trajectories 1.3\\Data\"\n",
    "users = os.listdir(geolife_datadir)\n",
    "\n",
    "def extract_latlon(record):\n",
    "    record = record.split(\",\")\n",
    "    return [float(record[0]), float(record[1])]\n",
    "\n",
    "trajs = []#20个用户的轨迹集合\n",
    "for user in users:\n",
    "    datadir = os.path.join(geolife_datadir, user)\n",
    "    traj_dirs = os.listdir(os.path.join(datadir, \"Trajectory\"))\n",
    "    trajs_for_each_user = []\n",
    "    f_all=[]\n",
    "    num=0\n",
    "    for traj_dir in traj_dirs:\n",
    "        num+=1\n",
    "        traj_dir = os.path.join(datadir, \"Trajectory\", traj_dir)\n",
    "        f = open(traj_dir)\n",
    "        f_all.extend(f.readlines()[6:])\n",
    "        if num == 10:\n",
    "            break\n",
    "    for record in f_all:\n",
    "        traj = extract_latlon(record)\n",
    "        trajs_for_each_user.append(traj)\n",
    "    trajs.append(trajs_for_each_user)\n",
    "print(len(trajs),len(trajs[0]),trajs[0])"
   ]
  },
  {
   "cell_type": "code",
   "execution_count": null,
   "metadata": {
    "pycharm": {
     "name": "#%%\n"
    }
   },
   "outputs": [],
   "source": [
    "tp = trajectory_processor.TrajectoryProcessor(n_x_lattice)\n",
    "#根据给定的经纬度范围生成状态图\n",
    "tp.make_map_from_latlon(max_lat=39.988695, max_lon=116.467438, min_lat=39.831741, min_lon=116.273804)\n",
    "n_split = tp.cp_n_split(5)#n_split表示以5为大小划分的子图个数\n",
    "#根据子图的区域生成图\n",
    "tp.make_graph_from_area(n_split=n_split, r=float(\"inf\"))\n",
    "#将轨迹转化成位置状态\n",
    "state_trajs = tp.trajs_to_state_trajs(trajs)\n",
    "print(len(state_trajs),len(state_trajs[0]))\n",
    "tp.make_transmat_from_state_trajs(state_trajs)"
   ]
  },
  {
   "cell_type": "code",
   "execution_count": null,
   "metadata": {
    "pycharm": {
     "name": "#%%\n"
    }
   },
   "outputs": [],
   "source": [
    "print(trajs[:3])\n",
    "for st in state_trajs:\n",
    "    print(len(st))"
   ]
  },
  {
   "cell_type": "code",
   "execution_count": null,
   "metadata": {
    "pycharm": {
     "name": "#%%\n"
    }
   },
   "outputs": [],
   "source": [
    "list_n_subgraph_x_nodes = [3, 4, 5]#对应GK9,GK16和GK25而来的网格大小\n",
    "\n",
    "tps = []\n",
    "\n",
    "for n_subgraph_x_nodes in list_n_subgraph_x_nodes:\n",
    "    tp_ = trajectory_processor.TrajectoryProcessor(n_x_lattice)\n",
    "    n_split = tp_.cp_n_split(n_subgraph_x_nodes)\n",
    "    #给定经纬度范围（北京四环内）\n",
    "    tp_.make_map_from_latlon(max_lat=39.988695, max_lon=116.467438, min_lat=39.831741, min_lon=116.273804)\n",
    "    tp_.make_graph_from_area(n_split=n_split, r=float(\"inf\"))\n",
    "    tp_.transition_mat = tp.transition_mat\n",
    "    tps.append(tp_)"
   ]
  },
  {
   "cell_type": "code",
   "execution_count": null,
   "metadata": {
    "pycharm": {
     "name": "#%%\n"
    }
   },
   "outputs": [],
   "source": [
    "#平滑技术\n",
    "def smoothing(result, win=10):\n",
    "    return [np.average(result\n",
    "                       [max(i-win*2, 0):i+win*2]) for i in range(len(result))]\n",
    "#距离计算\n",
    "def distance(true_state_traj, perturbed_state_trajs, tp):\n",
    "    distances = []\n",
    "    true_coords = tp.states_to_coords(true_state_traj)\n",
    "    for perturbed_state_traj in perturbed_state_trajs:\n",
    "        perturbed_coords = tp.states_to_coords(perturbed_state_traj)[:150]\n",
    "        distances.append(np.linalg.norm(true_coords - perturbed_coords, axis=1) * tp.lattice_length)\n",
    "    return np.average(distances, axis=0)\n",
    "#平均距离\n",
    "def ave_distance(reports, tp):\n",
    "    distances = []\n",
    "    for report in reports:\n",
    "        distances.append(distance(report[\"true_trajectory\"], report[\"perturbed_trajectories\"], tp))\n",
    "    return np.average(distances, axis=0) / 1000\n",
    "\n",
    "def ave_ave_distance(reports, tp):\n",
    "    distances = []\n",
    "    for report in reports:\n",
    "        distances.append(distance(report[\"true_trajectory\"], report[\"perturbed_trajectories\"], tp))\n",
    "    return np.average(distances)\n"
   ]
  },
  {
   "cell_type": "code",
   "execution_count": null,
   "metadata": {
    "pycharm": {
     "name": "#%%\n"
    }
   },
   "outputs": [],
   "source": [
    "#pimreports=perturb_trajectories(state_trajs[:10],tp,0.3,pim_with_pg,iter_num=2)"
   ]
  },
  {
   "cell_type": "code",
   "execution_count": null,
   "metadata": {
    "pycharm": {
     "name": "#%%\n"
    }
   },
   "outputs": [],
   "source": [
    "import joblib\n",
    "import time\n",
    "epsilons = [0.3, 0.5, 0.7, 1]\n",
    "global ave_pim,ave_lm\n",
    "ave_pim_time_epsilons = []\n",
    "ave_lm_time_epsilons = []\n",
    "for epsilon in epsilons:\n",
    "    sum_pim_time = 0\n",
    "    ave_pim_time_tps = []\n",
    "    sum_lm_time = 0\n",
    "    ave_lm_time_tps = []\n",
    "    print(\"#\"*50+\"隐私预算为：\"+str(epsilon)+\"#\"*50)\n",
    "    for i, tp in enumerate(tps):\n",
    "        #算法迭代次数\n",
    "        iter_num = 25\n",
    "        print(\"*\"*40+\"第\"+str(i+1)+\"个策略图\"+\"*\"*40)\n",
    "        np.random.seed(0)\n",
    "        print(\"开始平面各向同性扰动算法\")\n",
    "        #平面各向性扰动结果\n",
    "        pim_start = time.time()\n",
    "        pim_reports = perturb_trajectories(state_trajs[:20], tp, epsilon, pim_with_pg, iter_num=iter_num)\n",
    "        pim_end = time.time()\n",
    "        pim_time = pim_end-pim_start\n",
    "        sum_pim_time += pim_time\n",
    "        ave_pim_time = (sum_pim_time/iter_num)/20\n",
    "        print(\"平面各向同性扰动用时：\"+str(ave_pim_time))\n",
    "        ave_pim_time_tps.append(ave_pim_time)\n",
    "        print(\"开始拉普拉斯扰动算法\")\n",
    "        #拉普拉斯扰动结果\n",
    "        lm_start = time.time()\n",
    "        lm_reports = perturb_trajectories(state_trajs[:20], tp, epsilon, lm_with_pg, iter_num=30)\n",
    "        lm_end = time.time()\n",
    "        lm_time = lm_end-lm_start\n",
    "        sum_lm_time += lm_time\n",
    "        ave_lm_time = (sum_lm_time/iter_num)/20\n",
    "        print(\"拉普拉斯扰动用时：\"+str(ave_lm_time))\n",
    "        ave_lm_time_tps.append(ave_lm_time)\n",
    "        #用joblib.dump()将训练好的模型保存在本地，需要用的时候再load()\n",
    "        joblib.dump(filename=f\"epsilon_{epsilon}_{i}.jbl\", value=[pim_reports, lm_reports])\n",
    "    ave_lm_time_epsilons.append(ave_lm_time_tps)\n",
    "    ave_lm = np.array(ave_lm_time_epsilons).T\n",
    "    ave_pim_time_epsilons.append(ave_pim_time_tps)\n",
    "    ave_pim = np.array(ave_pim_time_epsilons).T"
   ]
  },
  {
   "cell_type": "code",
   "execution_count": null,
   "metadata": {
    "pycharm": {
     "name": "#%%\n"
    }
   },
   "outputs": [],
   "source": [
    "ave_lm_t = []\n",
    "ave_pim_t = []\n",
    "for i in range(4):\n",
    "    lm_t = (ave_lm[0][i]+ave_lm[1][i]+ave_lm[2][i])/3\n",
    "    ave_lm_t.append(lm_t)\n",
    "for i in range(4):\n",
    "    pim_t = (ave_pim[0][i]+ave_pim[1][i]+ave_pim[2][i])/3\n",
    "    ave_pim_t.append(pim_t)\n",
    "print(ave_pim_t)"
   ]
  },
  {
   "cell_type": "code",
   "execution_count": null,
   "metadata": {
    "pycharm": {
     "name": "#%%\n"
    }
   },
   "outputs": [],
   "source": [
    "epsilons = [0.3, 0.5, 0.7, 1]\n",
    "#基线算法和P3-LP算法运行时间对比\n",
    "x = np.arange(len(epsilons))\n",
    "print(x)\n",
    "def plot_compare_time(dot_lm,dot_pim):\n",
    "    plt.rcParams['font.sans-serif'] = ['STZhongsong']\n",
    "    plt.rcParams[\"font.size\"] = 20\n",
    "    x = np.arange(len(epsilons))\n",
    "    f,ax = plt.subplots()\n",
    "    ax.set_xticklabels(epsilons)\n",
    "    ax.set_xticks(x)\n",
    "    plt.xlabel(\"$\\epsilon$\")\n",
    "    plt.ylabel(\"算法运行时间/s\")\n",
    "    plt.plot(dot_pim, label=\"P3-LP算法\", marker=\"o\",color=\"black\")\n",
    "    plt.plot(dot_lm, label=\"基线算法\", linestyle=\"dotted\", marker=\"x\",color=\"black\")\n",
    "    plt.legend(fontsize=10, loc=\"upper right\", bbox_to_anchor=(1,0.9))\n",
    "    plt.show()\n",
    "\n",
    "plot_compare_time(ave_lm[0],ave_pim[0])"
   ]
  },
  {
   "cell_type": "code",
   "execution_count": null,
   "metadata": {
    "pycharm": {
     "name": "#%%\n"
    }
   },
   "outputs": [],
   "source": [
    "import joblib\n",
    "epsilon = 0.7\n",
    "k9_pim_reports, k9_lm_reports = joblib.load(filename=f\"epsilon_{epsilon}_0.jbl\")\n",
    "k16_pim_reports, k16_lm_reports = joblib.load(filename=f\"epsilon_{epsilon}_1.jbl\")\n",
    "k25_pim_reports, k25_lm_reports = joblib.load(filename=f\"epsilon_{epsilon}_2.jbl\")\n",
    "\n",
    "k9_2_pim_distance = ave_ave_distance(k9_pim_reports, tps[0])\n",
    "k16_2_pim_distance = ave_ave_distance(k16_pim_reports, tps[1])\n",
    "k25_2_pim_distance = ave_ave_distance(k25_pim_reports, tps[2])\n",
    "\n",
    "k9_2_lm_distance = ave_ave_distance(k9_lm_reports, tps[0])\n",
    "k16_2_lm_distance = ave_ave_distance(k16_lm_reports, tps[1])\n",
    "k25_2_lm_distance = ave_ave_distance(k25_lm_reports, tps[2])\n",
    "\n",
    "epsilon = 0.3\n",
    "k9_pim_reports, k9_lm_reports = joblib.load(filename=f\"epsilon_{epsilon}_0.jbl\")\n",
    "k16_pim_reports, k16_lm_reports = joblib.load(filename=f\"epsilon_{epsilon}_1.jbl\")\n",
    "k25_pim_reports, k25_lm_reports = joblib.load(filename=f\"epsilon_{epsilon}_2.jbl\")\n",
    "\n",
    "k9_03_pim_distance = ave_ave_distance(k9_pim_reports, tps[0])\n",
    "k16_03_pim_distance = ave_ave_distance(k16_pim_reports, tps[1])\n",
    "k25_03_pim_distance = ave_ave_distance(k25_pim_reports, tps[2])\n",
    "\n",
    "k9_03_lm_distance = ave_ave_distance(k9_lm_reports, tps[0])\n",
    "k16_03_lm_distance = ave_ave_distance(k16_lm_reports, tps[1])\n",
    "k25_03_lm_distance = ave_ave_distance(k25_lm_reports, tps[2])\n",
    "\n",
    "epsilon = 0.5\n",
    "k9_pim_reports, k9_lm_reports = joblib.load(filename=f\"epsilon_{epsilon}_0.jbl\")\n",
    "k16_pim_reports, k16_lm_reports = joblib.load(filename=f\"epsilon_{epsilon}_1.jbl\")\n",
    "k25_pim_reports, k25_lm_reports = joblib.load(filename=f\"epsilon_{epsilon}_2.jbl\")\n",
    "\n",
    "k9_05_pim_distance = ave_ave_distance(k9_pim_reports, tps[0])\n",
    "k16_05_pim_distance = ave_ave_distance(k16_pim_reports, tps[1])\n",
    "k25_05_pim_distance = ave_ave_distance(k25_pim_reports, tps[2])\n",
    "\n",
    "k9_05_lm_distance = ave_ave_distance(k9_lm_reports, tps[0])\n",
    "k16_05_lm_distance = ave_ave_distance(k16_lm_reports, tps[1])\n",
    "k25_05_lm_distance = ave_ave_distance(k25_lm_reports, tps[2])\n",
    "\n",
    "epsilon = 1\n",
    "k9_pim_reports, k9_lm_reports = joblib.load(filename=f\"epsilon_{epsilon}_0.jbl\")\n",
    "k16_pim_reports, k16_lm_reports = joblib.load(filename=f\"epsilon_{epsilon}_1.jbl\")\n",
    "k25_pim_reports, k25_lm_reports = joblib.load(filename=f\"epsilon_{epsilon}_2.jbl\")\n",
    "\n",
    "k9_1_pim_distance = ave_ave_distance(k9_pim_reports, tps[0])\n",
    "k16_1_pim_distance = ave_ave_distance(k16_pim_reports, tps[1])\n",
    "k25_1_pim_distance = ave_ave_distance(k25_pim_reports, tps[2])\n",
    "\n",
    "k9_1_lm_distance = ave_ave_distance(k9_lm_reports, tps[0])\n",
    "k16_1_lm_distance = ave_ave_distance(k16_lm_reports, tps[1])\n",
    "k25_1_lm_distance = ave_ave_distance(k25_lm_reports, tps[2])\n",
    "#汇总\n",
    "k9 = [k9_03_pim_distance, k9_05_pim_distance, k9_1_pim_distance, k9_2_pim_distance]\n",
    "k16 = [k16_03_pim_distance, k16_05_pim_distance, k16_1_pim_distance, k16_2_pim_distance]\n",
    "k25 = [k25_03_pim_distance, k25_05_pim_distance, k25_1_pim_distance, k25_2_pim_distance]\n",
    "\n",
    "k9l = [k9_03_lm_distance,k9_05_lm_distance,k9_1_lm_distance,k9_2_lm_distance]\n",
    "k16l = [k16_03_lm_distance,k16_05_lm_distance,k16_1_lm_distance,k16_2_lm_distance]\n",
    "k25l = [k25_03_lm_distance,k25_05_lm_distance,k25_1_lm_distance,k25_2_lm_distance]"
   ]
  },
  {
   "cell_type": "code",
   "execution_count": 4,
   "metadata": {
    "pycharm": {
     "name": "#%%\n"
    }
   },
   "outputs": [
    {
     "data": {
      "image/png": "[encoded data removed]",
      "text/plain": [
       "<Figure size 432x288 with 1 Axes>"
      ]
     },
     "metadata": {
      "needs_background": "light"
     },
     "output_type": "display_data"
    },
    {
     "data": {
      "image/png": "[encoded data removed]",
      "text/plain": [
       "<Figure size 432x288 with 1 Axes>"
      ]
     },
     "metadata": {
      "needs_background": "light"
     },
     "output_type": "display_data"
    }
   ],
   "source": [
    "import matplotlib.pyplot as plt\n",
    "import numpy as np\n",
    "epsilons = [0.3,0.5,0.7,1]\n",
    "dot_pi = [1,2,3,4]\n",
    "dot_l = [3,4,5,6]\n",
    "plt.title(\"t\")\n",
    "plt.rcParams['font.sans-serif'] = ['STZhongsong']\n",
    "plt.rcParams[\"font.size\"] = 20\n",
    "x = np.arange(len(epsilons))\n",
    "f,ax = plt.subplots()\n",
    "ax.set_xticklabels(epsilons)\n",
    "ax.set_xticks(x)\n",
    "plt.xlabel(\"$\\epsilon$\")\n",
    "plt.ylabel(\"算法有效性$E_{eu}$对比\")\n",
    "plt.plot(dot_pi, label=\"P3-LP算法\", marker=\"o\",color=\"black\")\n",
    "plt.plot(dot_l, label=\"基线算法\", linestyle=\"dotted\", marker=\"x\",color=\"black\")\n",
    "plt.legend(fontsize=10, loc=\"upper right\", bbox_to_anchor=(1,0.9))\n",
    "plt.show()"
   ]
  },
  {
   "cell_type": "code",
   "execution_count": null,
   "metadata": {
    "pycharm": {
     "name": "#%%\n"
    }
   },
   "outputs": [],
   "source": [
    "#基线算法和P3-LP算法有效性对比实验\n",
    "def plot(pim_results, lm_results, filename=\"temp\"):\n",
    "    for pim, lm, graph_name in zip(pim_results, lm_results, graph_names):\n",
    "        print(graph_name)\n",
    "        plt.rcParams['font.sans-serif'] = ['STZhongsong']\n",
    "        plt.rcParams[\"font.size\"] = 20\n",
    "        plt.plot(epsilons, pim, label=\"P3-LP算法\", marker=\"o\")\n",
    "        plt.plot(epsilons, lm, label=\"基线算法\", linestyle=\"dotted\", marker=\"x\")\n",
    "        plt.legend(fontsize=12)\n",
    "        plt.xlabel(\"$\\epsilon$\")\n",
    "        plt.ylabel(\"$E_{eu}$\")\n",
    "        plt.savefig(imgdir + filename + graph_name + \".eps\", bbox_inches='tight', pad_inches=0,  transparent=False)\n",
    "        plt.show()"
   ]
  },
  {
   "cell_type": "code",
   "execution_count": null,
   "metadata": {
    "pycharm": {
     "name": "#%%\n"
    }
   },
   "outputs": [],
   "source": [
    "# -- coding:gbk --\n",
    "def plot_bar(results, y_name, filename=\"temp\"):\n",
    "    plt.rcParams['font.sans-serif'] = ['STZhongsong']\n",
    "    k9, k16, k25 = results#都是PIM运行结果\n",
    "    x = np.arange(len(epsilons))\n",
    "    width = 0.2\n",
    "    print(epsilons)\n",
    "    fig, ax = plt.subplots()\n",
    "    rects1 = ax.bar(x - width, np.array(k9) / 1000, width, label='$PG_{k9}$',color='white', alpha=1, edgecolor=\"k\",hatch=\"***\")\n",
    "    rects2 = ax.bar(x, np.array(k16) / 1000, width, label='$PG_{k16}$',color='white', alpha=1, edgecolor=\"k\",hatch='/')\n",
    "    rects3 = ax.bar(x + width, np.array(k25) /1000, width, label='$PG_{k25}$',color='white', alpha=1, edgecolor=\"k\",hatch=\"xxx\")\n",
    "    ax.set_xticks(x)\n",
    "    plt.rcParams[\"font.size\"] = 10\n",
    "    plt.legend(loc = \"best\", fontsize=10)\n",
    "    ax.set_ylabel(u'有效性$E_{}$平均值'.format(\"{\" + y_name + \"}\"))\n",
    "    ax.set_xticklabels(epsilons)\n",
    "    plt.xlabel(\"隐私预算$\\epsilon$\")\n",
    "\n",
    "    fig.tight_layout()\n",
    "    #plt.savefig(filename + \".eps\", bbox_inches='tight', pad_inches=0,  transparent=False)\n",
    "    plt.show()\n",
    "\n",
    "plot_bar([k9, k16, k25], \"eu\")"
   ]
  },
  {
   "cell_type": "code",
   "execution_count": null,
   "metadata": {
    "pycharm": {
     "name": "#%%\n"
    }
   },
   "outputs": [],
   "source": [
    "k9_pim_distances = ave_distance(k9_pim_reports, tp)\n",
    "k16_pim_distances = ave_distance(k16_pim_reports, tp)\n",
    "k25_pim_distances = ave_distance(k25_pim_reports, tp)\n",
    "plt.title(u\"Geolife数据集\")\n",
    "plt.rcParams['font.sans-serif'] = ['STZhongsong']\n",
    "plt.rcParams[\"font.size\"] = 20\n",
    "plt.ylabel(\"P3-LP算法有效性$E_{eu}$\")\n",
    "plt.xlabel(\"时刻\")\n",
    "plt.plot(smoothing(k9_pim_distances), label=\"$PG_{k9}$\", color=\"black\")\n",
    "plt.plot(smoothing(k16_pim_distances), label=\"$PG_{k16}$\", linestyle=\"-.\",color=\"black\")\n",
    "plt.plot(smoothing(k25_pim_distances), label=\"$PG_{k25}$\",linestyle=\"--\",color=\"black\")\n",
    "plt.legend(fontsize=10, loc=\"upper right\", bbox_to_anchor=(1,0.9))\n",
    "plt.savefig(\"geolife.eps\", bbox_inches='tight', pad_inches=0 )"
   ]
  },
  {
   "cell_type": "code",
   "execution_count": null,
   "metadata": {
    "pycharm": {
     "name": "#%%\n"
    }
   },
   "outputs": [],
   "source": [
    "pim_distances = ave_distance(k9_pim_reports, tp)\n",
    "lm_distances = ave_distance(k9_lm_reports, tp)\n",
    "plt.rcParams['font.sans-serif'] = ['STZhongsong']\n",
    "plt.rcParams[\"font.size\"] = 20\n",
    "plt.title(u\"策略图GK9\")\n",
    "plt.ylabel(\"算法有效性$E_{eu}$\")\n",
    "plt.xlabel(u\"时刻\")\n",
    "plt.plot(smoothing(pim_distances), label=\"P3-LP算法\",color=\"black\")\n",
    "plt.plot(smoothing(lm_distances), label=\"基线算法\", linestyle=\"dotted\",color=\"black\")\n",
    "plt.legend(fontsize=10)\n",
    "#plt.savefig(\"9k.eps\", bbox_inches='tight', pad_inches=0 )"
   ]
  },
  {
   "cell_type": "code",
   "execution_count": null,
   "metadata": {
    "pycharm": {
     "name": "#%%\n"
    }
   },
   "outputs": [],
   "source": [
    "pim_distances = ave_distance(k16_pim_reports, tp)\n",
    "lm_distances = ave_distance(k16_lm_reports, tp)\n",
    "plt.title(u\"策略图GK16\")\n",
    "plt.rcParams[\"font.size\"] = 10\n",
    "\n",
    "plt.xlabel(\"时刻\")\n",
    "plt.ylabel(\"算法有效性$E_{eu}$\")\n",
    "plt.plot(smoothing(pim_distances), label=\"P3-LP算法\",color=\"black\")\n",
    "plt.plot(smoothing(lm_distances), label=\"基线算法\", linestyle=\"dotted\",color=\"black\")\n",
    "plt.legend(fontsize=10)\n",
    "#plt.savefig(\"16k.eps\", bbox_inches='tight', pad_inches=0 )"
   ]
  },
  {
   "cell_type": "code",
   "execution_count": null,
   "metadata": {
    "pycharm": {
     "name": "#%%\n"
    }
   },
   "outputs": [],
   "source": [
    "pim_distances = ave_distance(k25_pim_reports, tp)\n",
    "lm_distances = ave_distance(k25_lm_reports, tp)\n",
    "plt.title(u\"策略图GK25\")\n",
    "plt.rcParams[\"font.size\"] = 10\n",
    "plt.ylabel(\"$E_{eu}$\")\n",
    "plt.xlabel(\"时刻\")\n",
    "plt.plot(smoothing(pim_distances), label=\"P3-LP算法\",color=\"black\")\n",
    "plt.plot(smoothing(lm_distances), label=\"基线算法\", linestyle=\"dotted\",color=\"black\")\n",
    "plt.legend(fontsize=10)\n",
    "#plt.savefig(\"25k.eps\", bbox_inches='tight', pad_inches=0 )"
   ]
  },
  {
   "cell_type": "markdown",
   "metadata": {},
   "source": [
    "# Gowalla"
   ]
  },
  {
   "cell_type": "code",
   "execution_count": null,
   "metadata": {
    "pycharm": {
     "name": "#%%\n"
    }
   },
   "outputs": [],
   "source": [
    "def judge_in(latlon):\n",
    "    return (min_lat <= latlon[0] <= max_lat) and (min_lon <= -latlon[1] <= max_lon)\n",
    "\n",
    "gowalla_datadir = \"E:\\P-GPS Project\\PGLP-master\\Gowalla_totalCheckins.txt\"\n",
    "n_id = 107093\n",
    "trajs = {}\n",
    "with open(gowalla_datadir) as gowalla_data:\n",
    "    pre_id = 0\n",
    "    for loc in gowalla_data:\n",
    "        splitted = loc.split(\"\\t\")\n",
    "        id = int(splitted[0])\n",
    "        if id not in trajs.keys():\n",
    "            trajs[id] = []\n",
    "        else:\n",
    "            trajs[id].append((float(splitted[2]), float(splitted[3])))"
   ]
  },
  {
   "cell_type": "code",
   "execution_count": null,
   "metadata": {
    "pycharm": {
     "name": "#%%\n"
    }
   },
   "outputs": [],
   "source": [
    "import sys\n",
    "sys.path.append(\"../src\")\n",
    "import numpy as np\n",
    "import trajectory_processor\n",
    "n_x_lattice = 50\n",
    "min_lat = 34.02\n",
    "max_lat = 34.18\n",
    "min_lon = 118.2\n",
    "max_lon = 118.4\n",
    "\n",
    "in_trajs = []\n",
    "for traj in trajs.values():\n",
    "    in_traj = np.array(traj)[np.where([judge_in(latlon) for latlon in traj])]\n",
    "    if not len(in_traj) <= 1:\n",
    "        in_trajs.append(np.abs(in_traj))\n",
    "\n",
    "tp = trajectory_processor.TrajectoryProcessor(n_x_lattice)\n",
    "tp.make_map_from_latlon(max_lat=max_lat, max_lon=max_lon, min_lat=min_lat, min_lon=min_lon)\n",
    "state_trajs = tp.trajs_to_state_trajs(in_trajs)\n",
    "tp.make_transmat_from_state_trajs(state_trajs)\n",
    "\n",
    "test_trajs = [traj for traj in state_trajs if len(traj) >= 100]"
   ]
  },
  {
   "cell_type": "code",
   "execution_count": null,
   "metadata": {
    "pycharm": {
     "name": "#%%\n"
    }
   },
   "outputs": [],
   "source": [
    "def perturb_trajectory(traj, traj_processor, epsilon, mec, iter_num=1):\n",
    "    reports = {\"true_trajectory\": traj[:150], \"perturbed_trajectories\": []}\n",
    "\n",
    "    mec.policy_mat = traj_processor.graph_mat\n",
    "\n",
    "    for f in range(iter_num):\n",
    "\n",
    "        #print(\"\\n\" + str(f))\n",
    "        print(\"-\"*25+\"第\"+str(f+1)+\"次\"+\"-\"*25)\n",
    "        #先验概率计算\n",
    "        prior_distribution = np.zeros(len(traj_processor.transition_mat[0]))\n",
    "        prior_distribution[traj[0]] = 1\n",
    "\n",
    "        perturbed_trajectory = np.zeros(len(traj[:150]))\n",
    "\n",
    "        for i, true_state in enumerate(traj[:150]):\n",
    "            pos_dist = traj_processor.compute_posterior_distribution(prior_distribution)\n",
    "            state_nos = traj_processor.compute_possible_set(pos_dist, delta=0)\n",
    "\n",
    "            set_of_connected_states = traj_processor.make_set_of_connected_states(state_nos, traj_processor.graph_mat)\n",
    "            connected_states_of_true_state = traj_processor.connected_states(true_state, set_of_connected_states)\n",
    "            if connected_states_of_true_state == None:\n",
    "                connected_states_of_true_state = traj_processor.areas[traj_processor.state_to_area_state(true_state)]\n",
    "            connected_coords_of_true_state = traj_processor.states_to_coords(connected_states_of_true_state)\n",
    "\n",
    "            true_coord = traj_processor.state_to_coord(true_state)\n",
    "\n",
    "            mec.load(connected_coords_of_true_state, connected_states_of_true_state)\n",
    "            mec.build_distribution(epsilon)\n",
    "\n",
    "            perturbed_coord = mec.perturb(true_coord)\n",
    "            perturbed_state = traj_processor.find_nearest_state(perturbed_coord)\n",
    "            perturbed_trajectory[i] = perturbed_state\n",
    "\n",
    "            prior_distribution = mec.inference(pos_dist, perturbed_coord)\n",
    "\n",
    "        reports[\"perturbed_trajectories\"].append(perturbed_trajectory)\n",
    "\n",
    "    return reports\n",
    "\n",
    "def perturb_trajectories(trajs, traj_processor, epsilon, mec, iter_num=1):\n",
    "    reports = []\n",
    "    num=0\n",
    "    for traj in trajs:\n",
    "        num+=1\n",
    "        print(\"+\"*35+\"第\"+str(num)+\"个用户\"+\"+\"*35)\n",
    "        reports.append(perturb_trajectory(traj, traj_processor, epsilon, mec, iter_num=iter_num))\n",
    "    return reports"
   ]
  },
  {
   "cell_type": "code",
   "execution_count": null,
   "metadata": {
    "pycharm": {
     "name": "#%%\n"
    }
   },
   "outputs": [],
   "source": [
    "list_n_subgraph_x_nodes = [3, 4, 5]\n",
    "\n",
    "tps = []\n",
    "\n",
    "for n_subgraph_x_nodes in list_n_subgraph_x_nodes:\n",
    "    tp_ = trajectory_processor.TrajectoryProcessor(n_x_lattice)\n",
    "    n_split = tp_.cp_n_split(n_subgraph_x_nodes)\n",
    "    tp_.make_map_from_latlon(max_lat=max_lat, max_lon=max_lon, min_lat=min_lat, min_lon=min_lon)\n",
    "    tp_.make_graph_from_area(n_split=n_split, r=float(\"inf\"))\n",
    "    tp_.transition_mat = tp.transition_mat\n",
    "\n",
    "    tps.append(tp_)"
   ]
  },
  {
   "cell_type": "code",
   "execution_count": null,
   "metadata": {
    "pycharm": {
     "name": "#%%\n"
    }
   },
   "outputs": [],
   "source": [
    "import sys\n",
    "sys.path.append(\"../src\")\n",
    "import mechanism_with_policy_graph\n",
    "epsilons = [1]\n",
    "pim_with_pg = mechanism_with_policy_graph.PlanarIsotropicMechanismWithPolicyGraph()\n",
    "\n",
    "reports = []\n",
    "for epsilon in epsilons:\n",
    "    for i, tp in enumerate(tps):\n",
    "        np.random.seed(0)\n",
    "        pim_reports = perturb_trajectories(test_trajs[:20], tp, epsilon, pim_with_pg, iter_num=20)\n",
    "        reports.append(pim_reports)"
   ]
  },
  {
   "cell_type": "code",
   "execution_count": null,
   "metadata": {
    "pycharm": {
     "name": "#%%\n"
    }
   },
   "outputs": [],
   "source": [
    "k9_pim_distances = ave_distance(reports[0], tp)\n",
    "k16_pim_distances = ave_distance(reports[1], tp)\n",
    "k25_pim_distances = ave_distance(reports[2], tp)\n",
    "plt.title(u\"Gowalla数据集\")\n",
    "plt.rcParams[\"font.size\"] = 20\n",
    "plt.ylabel(\"P3-LP算法有效性$E_{eu}$\")\n",
    "plt.xlabel(\"时刻\")\n",
    "plt.plot(smoothing(k9_pim_distances), label=\"$PG_{k9}$\", color=\"black\")\n",
    "plt.plot(smoothing(k16_pim_distances), label=\"$PG_{k16}$\", linestyle=\"-.\",color=\"black\")\n",
    "plt.plot(smoothing(k25_pim_distances), label=\"$PG_{k25}$\",linestyle=\"--\",color=\"black\")\n",
    "plt.legend(fontsize=10, loc=\"upper right\", bbox_to_anchor=(1,0.9))\n",
    "plt.savefig(\"gowalla.eps\", bbox_inches='tight', pad_inches=0 )\n",
    "\n",
    "\n",
    "\n",
    "\n"
   ]
  }
 ],
 "metadata": {
  "kernelspec": {
   "display_name": "Python 3",
   "language": "python",
   "name": "python3"
  },
  "language_info": {
   "codemirror_mode": {
    "name": "ipython",
    "version": 3
   },
   "file_extension": ".py",
   "mimetype": "text/x-python",
   "name": "python",
   "nbconvert_exporter": "python",
   "pygments_lexer": "ipython3",
   "version": "3.7.6"
  }
 },
 "nbformat": 4,
 "nbformat_minor": 1
}
